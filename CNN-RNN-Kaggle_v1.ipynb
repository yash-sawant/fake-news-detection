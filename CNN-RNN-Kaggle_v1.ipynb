{
 "cells": [
  {
   "cell_type": "markdown",
   "metadata": {
    "id": "d2auXpN4sMJ4"
   },
   "source": [
    "## Training CNN-RNN on Fake-Real news dataset from Kaggle\n",
    "\n",
    "'TRUE', 'mostly-true', 'half-true' as '1' (true information) <br>\n",
    "'pants-fire' and 'FALSE' as '0' (misinformation)<br>"
   ]
  },
  {
   "cell_type": "code",
   "execution_count": 1,
   "metadata": {
    "id": "uWZf5ppGsMJ5"
   },
   "outputs": [],
   "source": [
    "import tensorflow as tf\n",
    "import pandas as pd\n",
    "import numpy as np\n",
    "import nltk\n",
    "from sklearn.model_selection import train_test_split\n",
    "from tensorflow import keras"
   ]
  },
  {
   "cell_type": "code",
   "execution_count": 2,
   "metadata": {},
   "outputs": [],
   "source": [
    "df = pd.read_csv('kaggle_clean.csv')"
   ]
  },
  {
   "cell_type": "markdown",
   "metadata": {},
   "source": [
    "Splitting data into train, validation and test set - 70/30/30 "
   ]
  },
  {
   "cell_type": "code",
   "execution_count": 3,
   "metadata": {},
   "outputs": [],
   "source": [
    "X_train, X_test, y_train, y_test = train_test_split(df['cleanText'], df['new_labels'], test_size=0.2, random_state=42)\n",
    "\n",
    "X_train, X_val, y_train, y_val = train_test_split(X_train, y_train, test_size=0.15, random_state=42) # 0.25 x 0.8 = 0.2"
   ]
  },
  {
   "cell_type": "markdown",
   "metadata": {
    "id": "HRFMF7eQsMKB"
   },
   "source": [
    "Using the `TextVectorization` layer to index the vocabulary found in the dataset.\n",
    "Later, we'll use the same layer instance to vectorize the samples."
   ]
  },
  {
   "cell_type": "code",
   "execution_count": 4,
   "metadata": {
    "id": "Et4KEPeqsMKB"
   },
   "outputs": [],
   "source": [
    "# https://keras.io/examples/nlp/pretrained_word_embeddings/\n",
    "from tensorflow.keras.layers import TextVectorization\n",
    "\n",
    "vectorizer = TextVectorization(max_tokens=20000, output_sequence_length=300)\n",
    "text_ds = tf.data.Dataset.from_tensor_slices(X_train).batch(64)\n",
    "vectorizer.adapt(text_ds)"
   ]
  },
  {
   "cell_type": "markdown",
   "metadata": {
    "id": "6um1WduUsMKD"
   },
   "source": [
    "## Load pre-trained glove word embeddings\n",
    "\n",
    "Reference: https://nlp.stanford.edu/projects/glove/\n",
    "Code Sample: https://keras.io/examples/nlp/pretrained_word_embeddings/"
   ]
  },
  {
   "cell_type": "code",
   "execution_count": 5,
   "metadata": {
    "id": "IV2DwS9hsMKE"
   },
   "outputs": [
    {
     "name": "stdout",
     "output_type": "stream",
     "text": [
      "Found 400000 word vectors.\n"
     ]
    }
   ],
   "source": [
    "path_to_glove_file = \"../glove.6B/glove.6B.100d.txt\"\n",
    "\n",
    "embeddings_index = {}\n",
    "with open(path_to_glove_file,encoding=\"utf8\") as f:\n",
    "    for line in f:\n",
    "        word, coefs = line.split(maxsplit=1)\n",
    "        coefs = np.fromstring(coefs, \"f\", sep=\" \")\n",
    "        embeddings_index[word] = coefs\n",
    "\n",
    "print(\"Found %s word vectors.\" % len(embeddings_index))"
   ]
  },
  {
   "cell_type": "markdown",
   "metadata": {
    "id": "uFKt5CmNsMKE"
   },
   "source": [
    "Mapping glove embeddings with our vectorizer index"
   ]
  },
  {
   "cell_type": "code",
   "execution_count": 6,
   "metadata": {
    "id": "HZNRFWL4sMKE"
   },
   "outputs": [
    {
     "name": "stdout",
     "output_type": "stream",
     "text": [
      "Converted 9633 words (833 misses)\n"
     ]
    }
   ],
   "source": [
    "voc = vectorizer.get_vocabulary()\n",
    "word_index = dict(zip(voc, range(len(voc))))\n",
    "num_tokens = len(voc) + 2\n",
    "embedding_dim = 100\n",
    "hits = 0\n",
    "misses = 0\n",
    "missed_words = []\n",
    "\n",
    "# Prepare embedding matrix\n",
    "embedding_matrix = np.zeros((num_tokens, embedding_dim))\n",
    "for word, i in word_index.items():\n",
    "    embedding_vector = embeddings_index.get(word)\n",
    "    if embedding_vector is not None:\n",
    "        # Words not found in embedding index will be all-zeros.\n",
    "        # This includes the representation for \"padding\" and \"OOV\"\n",
    "        embedding_matrix[i] = embedding_vector\n",
    "        hits += 1\n",
    "    else:\n",
    "        misses += 1\n",
    "        missed_words.append(word)\n",
    "print(\"Converted %d words (%d misses)\" % (hits, misses))\n"
   ]
  },
  {
   "cell_type": "markdown",
   "metadata": {},
   "source": [
    "Words that were not preseent in the glove dictionary and will be dropped from processing.<br>\n",
    "More research into preprocessing can fix some of these cases\n"
   ]
  },
  {
   "cell_type": "code",
   "execution_count": 7,
   "metadata": {},
   "outputs": [
    {
     "data": {
      "text/plain": [
       "833"
      ]
     },
     "execution_count": 7,
     "metadata": {},
     "output_type": "execute_result"
    }
   ],
   "source": [
    "len(missed_words)"
   ]
  },
  {
   "cell_type": "markdown",
   "metadata": {
    "id": "O61uk5MksMKE"
   },
   "source": [
    "Next, we load the pre-trained word embeddings matrix into an `Embedding` layer.\n",
    "Note that we set `trainable=False` so as to prevent layer from updating during training"
   ]
  },
  {
   "cell_type": "code",
   "execution_count": 8,
   "metadata": {
    "id": "OaE402F5sMKE"
   },
   "outputs": [],
   "source": [
    "from tensorflow.keras.layers import Embedding\n",
    "\n",
    "embedding_layer = Embedding(\n",
    "    num_tokens,\n",
    "    embedding_dim,\n",
    "    embeddings_initializer=keras.initializers.Constant(embedding_matrix),\n",
    "    trainable=False,\n",
    ")"
   ]
  },
  {
   "cell_type": "markdown",
   "metadata": {
    "id": "2UbY7GDDsMKE"
   },
   "source": [
    "## Building the model\n",
    "\n",
    "The model structure is replicated using https://www.sciencedirect.com/science/article/pii/S2667096820300070"
   ]
  },
  {
   "cell_type": "markdown",
   "metadata": {},
   "source": [
    "#### Data Loader\n",
    "Vectorizer - Converts string to sequence of word index\n",
    "\n",
    "#### Model\n",
    "Embedding Layer - Converts word index to embedded vector<br>\n",
    "Conv1D          - 1D Convolution layer <br>\n",
    "Max Pooling 1D  - Max pooling layer with filter size 2<br>\n",
    "LSTM            - Long Short-Term Memory Network layer<br>\n",
    "Dense           - Classification layer<br>"
   ]
  },
  {
   "cell_type": "code",
   "execution_count": 9,
   "metadata": {},
   "outputs": [
    {
     "name": "stdout",
     "output_type": "stream",
     "text": [
      "Model: \"sequential\"\n",
      "_________________________________________________________________\n",
      " Layer (type)                Output Shape              Param #   \n",
      "=================================================================\n",
      " embedding (Embedding)       (None, None, 100)         1046800   \n",
      "                                                                 \n",
      " conv1d (Conv1D)             (None, None, 128)         64128     \n",
      "                                                                 \n",
      " max_pooling1d (MaxPooling1D  (None, None, 128)        0         \n",
      " )                                                               \n",
      "                                                                 \n",
      " lstm (LSTM)                 (None, 32)                20608     \n",
      "                                                                 \n",
      " dense (Dense)               (None, 1)                 33        \n",
      "                                                                 \n",
      "=================================================================\n",
      "Total params: 1,131,569\n",
      "Trainable params: 84,769\n",
      "Non-trainable params: 1,046,800\n",
      "_________________________________________________________________\n"
     ]
    }
   ],
   "source": [
    "# https://keras.io/api/layers/recurrent_layers/lstm/\n",
    "\n",
    "model = tf.keras.models.Sequential([\n",
    "#     tf.keras.Input(shape=(None,), dtype=\"int64\"),\n",
    "    embedding_layer,\n",
    "    tf.keras.layers.Conv1D(128, 5, activation=\"relu\"),\n",
    "    tf.keras.layers.MaxPooling1D(2),\n",
    "    tf.keras.layers.LSTM(32),#,activation=None,recurrent_activation=None),\n",
    "    tf.keras.layers.Dense(1, activation=\"sigmoid\")\n",
    "])\n",
    "\n",
    "model.summary()"
   ]
  },
  {
   "cell_type": "markdown",
   "metadata": {
    "id": "6eWKXLflsMKF"
   },
   "source": [
    "## Train the model"
   ]
  },
  {
   "cell_type": "code",
   "execution_count": 10,
   "metadata": {
    "id": "JLtzc9GHsMKF"
   },
   "outputs": [
    {
     "data": {
      "text/plain": [
       "((5519,), (975,))"
      ]
     },
     "execution_count": 10,
     "metadata": {},
     "output_type": "execute_result"
    }
   ],
   "source": [
    "# https://keras.io/examples/nlp/pretrained_word_embeddings/\n",
    "\n",
    "x_train = vectorizer(np.array([[s] for s in X_train])).numpy()\n",
    "x_val = vectorizer(np.array([[s] for s in X_val])).numpy()\n",
    "\n",
    "y_train = np.array(y_train)\n",
    "y_val = np.array(y_val)\n",
    "\n",
    "y_train.shape,y_val.shape"
   ]
  },
  {
   "cell_type": "code",
   "execution_count": 11,
   "metadata": {
    "id": "TSnthMlHsMKF",
    "scrolled": true
   },
   "outputs": [
    {
     "name": "stdout",
     "output_type": "stream",
     "text": [
      "Epoch 1/15\n",
      "87/87 [==============================] - 12s 107ms/step - loss: 0.6898 - acc: 0.5416 - val_loss: 0.6877 - val_acc: 0.5528\n",
      "Epoch 2/15\n",
      "87/87 [==============================] - 9s 107ms/step - loss: 0.6895 - acc: 0.5438 - val_loss: 0.6876 - val_acc: 0.5528\n",
      "Epoch 3/15\n",
      "87/87 [==============================] - 10s 121ms/step - loss: 0.6894 - acc: 0.5438 - val_loss: 0.6876 - val_acc: 0.5528\n",
      "Epoch 4/15\n",
      "87/87 [==============================] - 10s 120ms/step - loss: 0.6896 - acc: 0.5438 - val_loss: 0.6879 - val_acc: 0.5528\n",
      "Epoch 5/15\n",
      "87/87 [==============================] - 11s 126ms/step - loss: 0.6895 - acc: 0.5438 - val_loss: 0.6879 - val_acc: 0.5528\n",
      "Epoch 6/15\n",
      "87/87 [==============================] - 10s 114ms/step - loss: 0.6893 - acc: 0.5438 - val_loss: 0.6877 - val_acc: 0.5528\n",
      "Epoch 7/15\n",
      "87/87 [==============================] - 10s 113ms/step - loss: 0.6897 - acc: 0.5438 - val_loss: 0.6878 - val_acc: 0.5528\n",
      "Epoch 8/15\n",
      "87/87 [==============================] - 11s 123ms/step - loss: 0.6895 - acc: 0.5438 - val_loss: 0.6879 - val_acc: 0.5528\n",
      "Epoch 9/15\n",
      "87/87 [==============================] - 10s 118ms/step - loss: 0.6895 - acc: 0.5438 - val_loss: 0.6877 - val_acc: 0.5528\n",
      "Epoch 10/15\n",
      "87/87 [==============================] - 10s 120ms/step - loss: 0.6894 - acc: 0.5438 - val_loss: 0.6879 - val_acc: 0.5528\n",
      "Epoch 11/15\n",
      "87/87 [==============================] - 13s 149ms/step - loss: 0.6894 - acc: 0.5438 - val_loss: 0.6879 - val_acc: 0.5528\n",
      "Epoch 12/15\n",
      "87/87 [==============================] - 15s 178ms/step - loss: 0.6895 - acc: 0.5438 - val_loss: 0.6879 - val_acc: 0.5528\n",
      "Epoch 13/15\n",
      "87/87 [==============================] - 16s 189ms/step - loss: 0.6895 - acc: 0.5438 - val_loss: 0.6877 - val_acc: 0.5528\n",
      "Epoch 14/15\n",
      "87/87 [==============================] - 20s 233ms/step - loss: 0.6894 - acc: 0.5438 - val_loss: 0.6877 - val_acc: 0.5528\n",
      "Epoch 15/15\n",
      "87/87 [==============================] - 19s 215ms/step - loss: 0.6895 - acc: 0.5438 - val_loss: 0.6883 - val_acc: 0.5528\n"
     ]
    }
   ],
   "source": [
    "model.compile(\n",
    "    loss=\"binary_crossentropy\", optimizer=\"adam\", metrics=[\"acc\"]\n",
    ")\n",
    "history = model.fit(x_train, y_train, batch_size=64, epochs=15, validation_data=(x_val, y_val))"
   ]
  },
  {
   "cell_type": "code",
   "execution_count": 12,
   "metadata": {},
   "outputs": [
    {
     "data": {
      "image/png": "[encoded data removed]",
      "text/plain": [
       "<Figure size 640x480 with 1 Axes>"
      ]
     },
     "metadata": {},
     "output_type": "display_data"
    },
    {
     "data": {
      "image/png": "[encoded data removed]",
      "text/plain": [
       "<Figure size 640x480 with 1 Axes>"
      ]
     },
     "metadata": {},
     "output_type": "display_data"
    }
   ],
   "source": [
    "import matplotlib.pyplot as plt\n",
    "# print(history.history.keys())\n",
    "#  \"Accuracy\"\n",
    "plt.plot(history.history['acc'])\n",
    "plt.plot(history.history['val_acc'])\n",
    "plt.title('model accuracy')\n",
    "plt.ylabel('accuracy')\n",
    "plt.xlabel('epoch')\n",
    "plt.legend(['train', 'validation'], loc='upper left')\n",
    "plt.show()\n",
    "# \"Loss\"\n",
    "plt.plot(history.history['loss'])\n",
    "plt.plot(history.history['val_loss'])\n",
    "plt.title('model loss')\n",
    "plt.ylabel('loss')\n",
    "plt.xlabel('epoch')\n",
    "plt.legend(['train', 'validation'], loc='upper left')\n",
    "plt.show()"
   ]
  },
  {
   "cell_type": "markdown",
   "metadata": {},
   "source": [
    "# Inference on Test set"
   ]
  },
  {
   "cell_type": "code",
   "execution_count": 13,
   "metadata": {
    "id": "zEV-mYq1sMKG"
   },
   "outputs": [
    {
     "name": "stdout",
     "output_type": "stream",
     "text": [
      "51/51 [==============================] - 4s 46ms/step\n"
     ]
    }
   ],
   "source": [
    "string_input = keras.Input(shape=(1,), dtype=\"string\")\n",
    "x = vectorizer(string_input)\n",
    "preds = model(x)\n",
    "end_to_end_model = keras.Model(string_input, preds)\n",
    "\n",
    "probabilities = end_to_end_model.predict(\n",
    "    [X_test]\n",
    ")\n",
    "\n",
    "accuracy = np.mean(np.round(probabilities.ravel()) == y_test.values)"
   ]
  },
  {
   "cell_type": "code",
   "execution_count": 14,
   "metadata": {},
   "outputs": [
    {
     "name": "stdout",
     "output_type": "stream",
     "text": [
      "Accuracy: 0.56\n"
     ]
    }
   ],
   "source": [
    "print('Accuracy:',round(accuracy,2))"
   ]
  },
  {
   "cell_type": "code",
   "execution_count": null,
   "metadata": {},
   "outputs": [],
   "source": []
  }
 ],
 "metadata": {
  "colab": {
   "collapsed_sections": [],
   "name": "pretrained_word_embeddings",
   "provenance": [],
   "toc_visible": true
  },
  "kernelspec": {
   "display_name": "Python [conda env:tfpy37]",
   "language": "python",
   "name": "conda-env-tfpy37-py"
  },
  "language_info": {
   "codemirror_mode": {
    "name": "ipython",
    "version": 3
   },
   "file_extension": ".py",
   "mimetype": "text/x-python",
   "name": "python",
   "nbconvert_exporter": "python",
   "pygments_lexer": "ipython3",
   "version": "3.7.13"
  }
 },
 "nbformat": 4,
 "nbformat_minor": 1
}
